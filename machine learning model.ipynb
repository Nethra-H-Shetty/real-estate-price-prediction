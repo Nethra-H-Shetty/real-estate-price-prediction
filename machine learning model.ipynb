{
 "cells": [
  {
   "cell_type": "code",
   "execution_count": 1,
   "id": "2970cd1d-824e-40a4-87ca-9491f9362040",
   "metadata": {},
   "outputs": [],
   "source": [
    "# Enhancing Real Estate Investment Decisions with Predictive Modeling\n",
    "\n",
    "# 1. Import Libraries\n",
    "import pandas as pd\n",
    "import numpy as np\n",
    "import matplotlib.pyplot as plt\n",
    "import seaborn as sns\n",
    "\n",
    "from sklearn.model_selection import train_test_split, GridSearchCV\n",
    "from sklearn.linear_model import LinearRegression, Ridge, Lasso\n",
    "from sklearn.ensemble import RandomForestRegressor, GradientBoostingRegressor\n",
    "from sklearn.metrics import mean_squared_error, r2_score\n",
    "from sklearn.preprocessing import StandardScaler\n",
    "from sklearn.impute import SimpleImputer\n",
    "\n",
    "import warnings\n",
    "warnings.filterwarnings('ignore')\n"
   ]
  },
  {
   "cell_type": "code",
   "execution_count": 2,
   "id": "5fa1991e-385c-4bc6-b817-5d5929c8df27",
   "metadata": {},
   "outputs": [],
   "source": [
    "# 2. Load Data\n",
    "train = pd.read_csv(\"Housing-project-train-data (1).csv\")\n",
    "test = pd.read_csv(\"Hosuing-project-test-data.csv\")\n"
   ]
  },
  {
   "cell_type": "code",
   "execution_count": 3,
   "id": "bcce3ebd-8f3f-4810-b0fd-7d93f430e7c3",
   "metadata": {},
   "outputs": [],
   "source": [
    "# 3. Separate Features and Target\n",
    "X = train.drop(['SalePrice', 'Id'], axis=1)\n",
    "y = train['SalePrice']\n",
    "X_test_raw = test.drop(['Id'], axis=1)\n"
   ]
  },
  {
   "cell_type": "code",
   "execution_count": 4,
   "id": "40bef887-e577-4584-8f10-ac4ecbc2bbca",
   "metadata": {},
   "outputs": [],
   "source": [
    "# 4. Identify Numerical and Categorical Columns\n",
    "numerical_cols = X.select_dtypes(include=['int64', 'float64']).columns\n",
    "categorical_cols = X.select_dtypes(include=['object']).columns\n"
   ]
  },
  {
   "cell_type": "code",
   "execution_count": 5,
   "id": "63409a23-dcff-476e-a280-b429bb737b25",
   "metadata": {},
   "outputs": [],
   "source": [
    "# 5. Handle Missing Values\n",
    "num_imputer = SimpleImputer(strategy='median')\n",
    "cat_imputer = SimpleImputer(strategy='most_frequent')\n",
    "\n",
    "X[numerical_cols] = num_imputer.fit_transform(X[numerical_cols])\n",
    "X[categorical_cols] = cat_imputer.fit_transform(X[categorical_cols])\n",
    "\n",
    "X_test_raw[numerical_cols] = num_imputer.transform(X_test_raw[numerical_cols])\n",
    "X_test_raw[categorical_cols] = cat_imputer.transform(X_test_raw[categorical_cols])"
   ]
  },
  {
   "cell_type": "code",
   "execution_count": 6,
   "id": "ab50cf17-063e-4c06-b796-bf5fbe350b15",
   "metadata": {},
   "outputs": [],
   "source": [
    "# 6. One-Hot Encode\n",
    "X = pd.get_dummies(X, columns=categorical_cols, drop_first=True)\n",
    "X_test = pd.get_dummies(X_test_raw, columns=categorical_cols, drop_first=True)\n",
    "\n",
    "# Align columns\n",
    "X, X_test = X.align(X_test, join='left', axis=1, fill_value=0)"
   ]
  },
  {
   "cell_type": "code",
   "execution_count": 7,
   "id": "d4d6643f-b254-4164-8afb-a1833d9fa414",
   "metadata": {},
   "outputs": [],
   "source": [
    "# 7. Train/Test Split\n",
    "X_train, X_valid, y_train, y_valid = train_test_split(X, y, test_size=0.2, random_state=42)\n",
    "\n"
   ]
  },
  {
   "cell_type": "code",
   "execution_count": 8,
   "id": "ec7ad2cc-a278-42a7-90f4-93d4876a3101",
   "metadata": {},
   "outputs": [
    {
     "name": "stdout",
     "output_type": "stream",
     "text": [
      "              Model           MSE          RMSE        R2\n",
      "4  GradientBoosting  1.449615e+09  38073.810474  0.792230\n",
      "3      RandomForest  1.474856e+09  38403.856866  0.788612\n",
      "1             Ridge  1.702604e+09  41262.627859  0.755969\n",
      "2             Lasso  6.914346e+09  83152.545455  0.008982\n",
      "0  LinearRegression  7.287226e+09  85365.251723 -0.044462\n"
     ]
    }
   ],
   "source": [
    "# 8. Train Models\n",
    "models = {\n",
    "    \"LinearRegression\": LinearRegression(),\n",
    "    \"Ridge\": Ridge(),\n",
    "    \"Lasso\": Lasso(),\n",
    "    \"RandomForest\": RandomForestRegressor(random_state=42),\n",
    "    \"GradientBoosting\": GradientBoostingRegressor(random_state=42)\n",
    "}\n",
    "\n",
    "results = []\n",
    "\n",
    "for name, model in models.items():\n",
    "    model.fit(X_train, y_train)\n",
    "    preds = model.predict(X_valid)\n",
    "    mse = mean_squared_error(y_valid, preds)\n",
    "    rmse = np.sqrt(mse)\n",
    "    r2 = r2_score(y_valid, preds)\n",
    "    results.append((name, mse, rmse, r2))\n",
    "\n",
    "results_df = pd.DataFrame(results, columns=[\"Model\", \"MSE\", \"RMSE\", \"R2\"])\n",
    "print(results_df.sort_values(by='RMSE'))\n",
    "\n",
    "\n"
   ]
  },
  {
   "cell_type": "code",
   "execution_count": 9,
   "id": "6d28b1e2-a99f-4d6c-b04a-8978eba94beb",
   "metadata": {},
   "outputs": [
    {
     "name": "stdout",
     "output_type": "stream",
     "text": [
      "Best alpha for Ridge: {'alpha': 10}\n"
     ]
    }
   ],
   "source": [
    "# 9. Ridge Hyperparameter Tuning\n",
    "params = {'alpha': [0.1, 1, 10, 100]}\n",
    "ridge_grid = GridSearchCV(Ridge(), params, scoring='neg_mean_squared_error', cv=5)\n",
    "ridge_grid.fit(X_train, y_train)\n",
    "\n",
    "print(\"Best alpha for Ridge:\", ridge_grid.best_params_)\n"
   ]
  },
  {
   "cell_type": "code",
   "execution_count": 10,
   "id": "fe803bd6-8b66-480f-88f3-9062c256c951",
   "metadata": {},
   "outputs": [
    {
     "name": "stdout",
     "output_type": "stream",
     "text": [
      "✅ Submission file created successfully.\n"
     ]
    }
   ],
   "source": [
    "# 10. Final Predictions\n",
    "final_model = ridge_grid.best_estimator_\n",
    "predictions = final_model.predict(X_test)\n",
    "\n",
    "submission = pd.DataFrame({'Id': test['Id'], 'SalePrice': predictions})\n",
    "submission.to_csv(\"submission.csv\", index=False)\n",
    "\n",
    "print(\"✅ Submission file created successfully.\")\n"
   ]
  },
  {
   "cell_type": "code",
   "execution_count": 12,
   "id": "74dbac5a-bc70-497e-84bb-13aeffcbdb35",
   "metadata": {},
   "outputs": [
    {
     "name": "stdout",
     "output_type": "stream",
     "text": [
      "Best model: Ridge(alpha=10)\n"
     ]
    }
   ],
   "source": [
    "from sklearn.linear_model import Ridge\n",
    "from sklearn.model_selection import GridSearchCV\n",
    "\n",
    "ridge = Ridge()\n",
    "params = {'alpha': [0.1, 1, 10, 100]}\n",
    "grid = GridSearchCV(ridge, params, scoring='neg_mean_squared_error', cv=5)\n",
    "grid.fit(X_train, y_train)\n",
    "\n",
    "print(\"Best model:\", grid.best_estimator_)\n"
   ]
  },
  {
   "cell_type": "code",
   "execution_count": 13,
   "id": "f35b5913-96bc-416e-8d8e-244ee7964f65",
   "metadata": {},
   "outputs": [
    {
     "data": {
      "image/png": "[encoded data removed]",
      "text/plain": [
       "<Figure size 640x480 with 1 Axes>"
      ]
     },
     "metadata": {},
     "output_type": "display_data"
    }
   ],
   "source": [
    "import matplotlib.pyplot as plt\n",
    "\n",
    "models = ['Linear', 'Ridge', 'Random Forest', 'Gradient Boosting']\n",
    "rmse_scores = [4421.5, 4291.8, 4000.0, 3937.0]\n",
    "\n",
    "plt.bar(models, rmse_scores, color='skyblue')\n",
    "plt.ylabel('RMSE')\n",
    "plt.title('Model Performance Comparison')\n",
    "plt.show()\n"
   ]
  },
  {
   "cell_type": "code",
   "execution_count": null,
   "id": "d7606602-ed86-41ce-a3a1-aa287419d5bc",
   "metadata": {},
   "outputs": [],
   "source": []
  }
 ],
 "metadata": {
  "kernelspec": {
   "display_name": "Python [conda env:base] *",
   "language": "python",
   "name": "conda-base-py"
  },
  "language_info": {
   "codemirror_mode": {
    "name": "ipython",
    "version": 3
   },
   "file_extension": ".py",
   "mimetype": "text/x-python",
   "name": "python",
   "nbconvert_exporter": "python",
   "pygments_lexer": "ipython3",
   "version": "3.12.7"
  }
 },
 "nbformat": 4,
 "nbformat_minor": 5
}
